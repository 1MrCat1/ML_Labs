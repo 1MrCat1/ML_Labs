{
 "cells": [
  {
   "cell_type": "markdown",
   "metadata": {},
   "source": [
    "# Машинное обучение. ЛР №1\n",
    "### Журавлёв Константин, М8О-408Б-17"
   ]
  },
  {
   "cell_type": "markdown",
   "metadata": {},
   "source": [
    "Для работы были выбраны два датасета, содержащие данные о матчах в различных играх. Цель в обоих случаях - на основе имеющихся данных предсказать победу одной из сторон.  "
   ]
  },
  {
   "cell_type": "markdown",
   "metadata": {},
   "source": [
    "Импортируем необходимые библиотеки."
   ]
  },
  {
   "cell_type": "code",
   "execution_count": null,
   "metadata": {},
   "outputs": [],
   "source": [
    "import numpy as np\n",
    "import pandas as pd\n",
    "import matplotlib.pyplot as plt\n",
    "import seaborn as sns\n",
    "sns.set()\n",
    "import os"
   ]
  },
  {
   "cell_type": "markdown",
   "metadata": {},
   "source": [
    "##### Датасет №1"
   ]
  },
  {
   "cell_type": "raw",
   "metadata": {},
   "source": [
    "Первый датасет - данные по онлайн играм в шахматы на сайте Lichess.org. Датасет содержит основные данные об игроках, а также о самой партии.\n",
    "\n",
    "Начинаем с считывания самого датасета."
   ]
  },
  {
   "cell_type": "code",
   "execution_count": null,
   "metadata": {},
   "outputs": [],
   "source": [
    "df = pd.read_csv('games.csv')\n",
    "df.head().T"
   ]
  },
  {
   "cell_type": "raw",
   "metadata": {},
   "source": [
    "Слишком много столбцов содержат нечисловые данные. Для исправления конвертирум данные некоторых столбцов в числовой формат. Для уникальных имён партии, игроков, имён дебютов подойдёт простая трансформация в числа, т.к. нам не то чтобы очень важны эти данные. Перевод же победителя и статуса осуществим вручную, задав списки, которые заменяют определённые значения столбцов. Данные о ходах в партии можно было бы и не изменять, но интерес представляет то, сколько уникальных партий было в данном датасете, поэтому также их заменим уникальными числовыми идентификаторами."
   ]
  },
  {
   "cell_type": "code",
   "execution_count": null,
   "metadata": {},
   "outputs": [],
   "source": [
    "from sklearn.preprocessing import LabelEncoder\n",
    "labelencoder = LabelEncoder()\n",
    "df['id']    = labelencoder.fit_transform(df['id'])\n",
    "df['rated']    = labelencoder.fit_transform(df['rated']) \n",
    "df['winner'].replace(['white','black','draw'],[0,2,1],inplace = True) \n",
    "df['victory_status'].replace(['outoftime','resign','mate','draw'],[0,1,2,3],inplace = True)\n",
    "df['white_id']    = labelencoder.fit_transform(df['white_id']) \n",
    "df['black_id']    = labelencoder.fit_transform(df['black_id']) \n",
    "df['opening_eco']    = labelencoder.fit_transform(df['opening_eco'])  \n",
    "df['opening_name']    = labelencoder.fit_transform(df['opening_name']) \n",
    "df['moves']    = labelencoder.fit_transform(df['moves']) "
   ]
  },
  {
   "cell_type": "raw",
   "metadata": {},
   "source": [
    "Введём новый столбец, который бы наглядно показывал разницу в рейтинге на сайте между игроком белых и чёрных. Таким образом будет проще увидить закономерности в том, зависит ли победитель от рейтинга. "
   ]
  },
  {
   "cell_type": "code",
   "execution_count": null,
   "metadata": {},
   "outputs": [],
   "source": [
    "df.insert(12,\"rating_delta\",0)\n",
    "for j in range(df['rating_delta'].size):\n",
    "    df.at[j,'rating_delta'] = df.at[j,'white_rating'] - df.at[j,'black_rating']"
   ]
  },
  {
   "cell_type": "raw",
   "metadata": {},
   "source": [
    "После всех преобразований посмотрим на данный датасет. Можно заметить, что средняя разница в рейтингах в пользу игрока белыми, также как и побед, хоть и не на много, но больше у белых. Также интересно, что на 20 тысяч партий имеется только чуть меньше 19 тысяч уникальных комбинаций ходов."
   ]
  },
  {
   "cell_type": "code",
   "execution_count": null,
   "metadata": {},
   "outputs": [],
   "source": [
    "print('Info\\n', df.info())\n",
    "print('Describe\\n', df.describe())"
   ]
  },
  {
   "cell_type": "code",
   "execution_count": null,
   "metadata": {},
   "outputs": [],
   "source": [
    "df['moves'].unique().size"
   ]
  },
  {
   "cell_type": "raw",
   "metadata": {},
   "source": [
    "Посмотрим на зависимости между данными, а также сами данные после всех преобразований."
   ]
  },
  {
   "cell_type": "code",
   "execution_count": null,
   "metadata": {},
   "outputs": [],
   "source": [
    "corr = df.corr()\n",
    "#Plot figsize\n",
    "fig, ax = plt.subplots(figsize=(10,8))\n",
    "#Generate Heat Map, allow annotations and place floats in map\n",
    "sns.heatmap(corr, cmap='coolwarm', annot=True, fmt=\".2f\")\n",
    "#Apply xticks\n",
    "plt.xticks(range(len(corr.columns)+1), corr.columns);\n",
    "#Apply yticks\n",
    "plt.yticks(range(len(corr.columns)+1), corr.columns)\n",
    "#show plot\n",
    "plt.show()\n",
    "df"
   ]
  },
  {
   "cell_type": "code",
   "execution_count": null,
   "metadata": {},
   "outputs": [],
   "source": [
    "df.hist(figsize=(20,15))"
   ]
  },
  {
   "cell_type": "markdown",
   "metadata": {},
   "source": [
    "##### Датасет №2"
   ]
  },
  {
   "cell_type": "raw",
   "metadata": {},
   "source": [
    "Второй датасет - данные за ~10 тысяч рейтинговых игр из LoL на момент 10 минуты игры.\n",
    "В этот раз данные преобразовывать практически не нужно, всё уже представлено в читаемом формате."
   ]
  },
  {
   "cell_type": "code",
   "execution_count": null,
   "metadata": {},
   "outputs": [],
   "source": [
    "df2 = pd.read_csv('high_diamond_ranked_10min.csv')\n",
    "df2.head().T"
   ]
  },
  {
   "cell_type": "code",
   "execution_count": null,
   "metadata": {},
   "outputs": [],
   "source": [
    "df2"
   ]
  },
  {
   "cell_type": "code",
   "execution_count": null,
   "metadata": {},
   "outputs": [],
   "source": [
    "corr2 = df2.corr()\n",
    "fig, ax = plt.subplots(figsize=(30,15))\n",
    "#Generate Heat Map, allow annotations and place floats in map\n",
    "sns.heatmap(corr2, cmap='coolwarm', annot=True, fmt=\".2f\")\n",
    "#Apply xticks\n",
    "plt.xticks(range(len(corr2.columns)+1), corr2.columns);\n",
    "#Apply yticks\n",
    "plt.yticks(range(len(corr2.columns)+1), corr2.columns)\n",
    "#show plot\n",
    "plt.show()"
   ]
  },
  {
   "cell_type": "code",
   "execution_count": null,
   "metadata": {},
   "outputs": [],
   "source": [
    "print('Info\\n', df2.info())\n",
    "print('Describe\\n', df2.describe())"
   ]
  },
  {
   "cell_type": "code",
   "execution_count": null,
   "metadata": {},
   "outputs": [],
   "source": [
    "df2.hist(figsize=(30,15))"
   ]
  },
  {
   "cell_type": "code",
   "execution_count": null,
   "metadata": {},
   "outputs": [],
   "source": [
    "df.to_csv(path_or_buf = \"Chess_ready.csv\")\n",
    "df2.to_csv(path_or_buf = \"LoL_ready.csv\")"
   ]
  },
  {
   "cell_type": "code",
   "execution_count": null,
   "metadata": {},
   "outputs": [],
   "source": []
  }
 ],
 "metadata": {
  "kernelspec": {
   "display_name": "Python 3",
   "language": "python",
   "name": "python3"
  },
  "language_info": {
   "codemirror_mode": {
    "name": "ipython",
    "version": 3
   },
   "file_extension": ".py",
   "mimetype": "text/x-python",
   "name": "python",
   "nbconvert_exporter": "python",
   "pygments_lexer": "ipython3",
   "version": "3.7.4"
  }
 },
 "nbformat": 4,
 "nbformat_minor": 4
}
